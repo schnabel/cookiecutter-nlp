{
 "cells": [
  {
   "cell_type": "code",
   "execution_count": 2,
   "id": "immune-arrangement",
   "metadata": {},
   "outputs": [],
   "source": [
    "import pandas as pd"
   ]
  },
  {
   "cell_type": "code",
   "execution_count": 15,
   "id": "ruled-fever",
   "metadata": {},
   "outputs": [],
   "source": [
    "df = pd.read_csv(\"../data/news.cvs.zip\", usecols=[\"title\", \"content\"], dtype=str)"
   ]
  },
  {
   "cell_type": "code",
   "execution_count": 16,
   "id": "infrared-conference",
   "metadata": {},
   "outputs": [
    {
     "data": {
      "text/html": [
       "<div>\n",
       "<style scoped>\n",
       "    .dataframe tbody tr th:only-of-type {\n",
       "        vertical-align: middle;\n",
       "    }\n",
       "\n",
       "    .dataframe tbody tr th {\n",
       "        vertical-align: top;\n",
       "    }\n",
       "\n",
       "    .dataframe thead th {\n",
       "        text-align: right;\n",
       "    }\n",
       "</style>\n",
       "<table border=\"1\" class=\"dataframe\">\n",
       "  <thead>\n",
       "    <tr style=\"text-align: right;\">\n",
       "      <th></th>\n",
       "      <th>title</th>\n",
       "      <th>content</th>\n",
       "    </tr>\n",
       "  </thead>\n",
       "  <tbody>\n",
       "    <tr>\n",
       "      <th>0</th>\n",
       "      <td>Aegon Life iTerm plan helps you save tax &amp; get...</td>\n",
       "      <td>Aegon Life iTerm insurance plan helps you save...</td>\n",
       "    </tr>\n",
       "    <tr>\n",
       "      <th>1</th>\n",
       "      <td>I'm no more an orphan: Woman finds 103-yr-old ...</td>\n",
       "      <td>An 81-year-old woman named Eileen Macken who g...</td>\n",
       "    </tr>\n",
       "    <tr>\n",
       "      <th>2</th>\n",
       "      <td>Bulls**t: Krish on Kangana's claim of directin...</td>\n",
       "      <td>'Manikarnika: The Queen of Jhansi' co-director...</td>\n",
       "    </tr>\n",
       "    <tr>\n",
       "      <th>3</th>\n",
       "      <td>Esha shares chat of friend calling footballer ...</td>\n",
       "      <td>Actress Esha Gupta has apologised on Twitter f...</td>\n",
       "    </tr>\n",
       "    <tr>\n",
       "      <th>4</th>\n",
       "      <td>Pandya takes flying catch, 2 wickets on return...</td>\n",
       "      <td>All-rounder Hardik Pandya took a flying catch ...</td>\n",
       "    </tr>\n",
       "    <tr>\n",
       "      <th>...</th>\n",
       "      <td>...</td>\n",
       "      <td>...</td>\n",
       "    </tr>\n",
       "    <tr>\n",
       "      <th>10505</th>\n",
       "      <td>We will construct airport named after Lord Ram...</td>\n",
       "      <td>After renaming Faizabad district as Ayodhya, U...</td>\n",
       "    </tr>\n",
       "    <tr>\n",
       "      <th>10506</th>\n",
       "      <td>Govt asks for ₹3.6 lakh crore from RBI, bank r...</td>\n",
       "      <td>The Finance Ministry wants the RBI to transfer...</td>\n",
       "    </tr>\n",
       "    <tr>\n",
       "      <th>10507</th>\n",
       "      <td>94-yr-old accused of helping Nazis in camp mur...</td>\n",
       "      <td>A 94-year-old wheelchair-bound man accused of ...</td>\n",
       "    </tr>\n",
       "    <tr>\n",
       "      <th>10508</th>\n",
       "      <td>18-month-old saved from ocean by fisherman who...</td>\n",
       "      <td>A fisherman rescued an 18-month-old baby from ...</td>\n",
       "    </tr>\n",
       "    <tr>\n",
       "      <th>10509</th>\n",
       "      <td>Imran Khan's govt fires MD of state-run TV ove...</td>\n",
       "      <td>After Pakistan's state-run news channel PTV wr...</td>\n",
       "    </tr>\n",
       "  </tbody>\n",
       "</table>\n",
       "<p>10510 rows × 2 columns</p>\n",
       "</div>"
      ],
      "text/plain": [
       "                                                   title  \\\n",
       "0      Aegon Life iTerm plan helps you save tax & get...   \n",
       "1      I'm no more an orphan: Woman finds 103-yr-old ...   \n",
       "2      Bulls**t: Krish on Kangana's claim of directin...   \n",
       "3      Esha shares chat of friend calling footballer ...   \n",
       "4      Pandya takes flying catch, 2 wickets on return...   \n",
       "...                                                  ...   \n",
       "10505  We will construct airport named after Lord Ram...   \n",
       "10506  Govt asks for ₹3.6 lakh crore from RBI, bank r...   \n",
       "10507  94-yr-old accused of helping Nazis in camp mur...   \n",
       "10508  18-month-old saved from ocean by fisherman who...   \n",
       "10509  Imran Khan's govt fires MD of state-run TV ove...   \n",
       "\n",
       "                                                 content  \n",
       "0      Aegon Life iTerm insurance plan helps you save...  \n",
       "1      An 81-year-old woman named Eileen Macken who g...  \n",
       "2      'Manikarnika: The Queen of Jhansi' co-director...  \n",
       "3      Actress Esha Gupta has apologised on Twitter f...  \n",
       "4      All-rounder Hardik Pandya took a flying catch ...  \n",
       "...                                                  ...  \n",
       "10505  After renaming Faizabad district as Ayodhya, U...  \n",
       "10506  The Finance Ministry wants the RBI to transfer...  \n",
       "10507  A 94-year-old wheelchair-bound man accused of ...  \n",
       "10508  A fisherman rescued an 18-month-old baby from ...  \n",
       "10509  After Pakistan's state-run news channel PTV wr...  \n",
       "\n",
       "[10510 rows x 2 columns]"
      ]
     },
     "execution_count": 16,
     "metadata": {},
     "output_type": "execute_result"
    }
   ],
   "source": [
    "df"
   ]
  },
  {
   "cell_type": "code",
   "execution_count": 34,
   "id": "dirty-accreditation",
   "metadata": {},
   "outputs": [
    {
     "data": {
      "text/plain": [
       "\"I'd ask people to check my mail: Singer Ila on being stalked\""
      ]
     },
     "execution_count": 34,
     "metadata": {},
     "output_type": "execute_result"
    }
   ],
   "source": [
    "df.sample(n=1).values[0][0]"
   ]
  },
  {
   "cell_type": "code",
   "execution_count": null,
   "id": "bored-mexican",
   "metadata": {},
   "outputs": [],
   "source": []
  }
 ],
 "metadata": {
  "kernelspec": {
   "display_name": "Python 3",
   "language": "python",
   "name": "python3"
  },
  "language_info": {
   "codemirror_mode": {
    "name": "ipython",
    "version": 3
   },
   "file_extension": ".py",
   "mimetype": "text/x-python",
   "name": "python",
   "nbconvert_exporter": "python",
   "pygments_lexer": "ipython3",
   "version": "3.8.5"
  }
 },
 "nbformat": 4,
 "nbformat_minor": 5
}
