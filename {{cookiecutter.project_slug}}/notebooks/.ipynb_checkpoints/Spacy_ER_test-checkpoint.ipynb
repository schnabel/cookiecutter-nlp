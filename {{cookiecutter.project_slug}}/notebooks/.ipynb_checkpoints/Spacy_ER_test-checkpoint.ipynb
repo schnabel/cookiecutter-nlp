{
 "cells": [
  {
   "cell_type": "code",
   "execution_count": 5,
   "id": "italic-writing",
   "metadata": {},
   "outputs": [],
   "source": [
    "import spacy"
   ]
  },
  {
   "cell_type": "code",
   "execution_count": 6,
   "id": "leading-fence",
   "metadata": {},
   "outputs": [],
   "source": [
    "nlp = spacy.load(\"en_core_web_md\")"
   ]
  },
  {
   "cell_type": "code",
   "execution_count": 7,
   "id": "compact-exercise",
   "metadata": {},
   "outputs": [],
   "source": [
    "def foo():\n",
    "    doc = nlp(\"Upcoming iPhone X release date leaked as Apple reveals pre-orders. \" * 10)\n",
    "    ents = [ent.text for ent in doc.ents]"
   ]
  },
  {
   "cell_type": "code",
   "execution_count": 8,
   "id": "charged-ranking",
   "metadata": {},
   "outputs": [
    {
     "output_type": "stream",
     "name": "stdout",
     "text": [
      "13.4 ms ± 85.4 µs per loop (mean ± std. dev. of 7 runs, 100 loops each)\n"
     ]
    }
   ],
   "source": [
    "%%timeit\n",
    "foo()\n"
   ]
  }
 ],
 "metadata": {
  "kernelspec": {
   "name": "python3",
   "display_name": "Python 3.8.5 64-bit ('fastapi-template': pipenv)",
   "metadata": {
    "interpreter": {
     "hash": "4b631449105b72180b078018c0217a306aab01bcb0c3e1a00a6769c2c018268a"
    }
   }
  },
  "language_info": {
   "codemirror_mode": {
    "name": "ipython",
    "version": 3
   },
   "file_extension": ".py",
   "mimetype": "text/x-python",
   "name": "python",
   "nbconvert_exporter": "python",
   "pygments_lexer": "ipython3",
   "version": "3.8.5-final"
  }
 },
 "nbformat": 4,
 "nbformat_minor": 5
}